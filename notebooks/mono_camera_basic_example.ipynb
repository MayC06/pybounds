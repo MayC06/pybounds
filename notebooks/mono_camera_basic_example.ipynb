{
 "cells": [
  {
   "cell_type": "code",
   "id": "initial_id",
   "metadata": {
    "collapsed": true,
    "ExecuteTime": {
     "end_time": "2024-10-30T07:31:32.464856Z",
     "start_time": "2024-10-30T07:31:32.033127Z"
    }
   },
   "source": [
    "%reset -f\n",
    "%load_ext autoreload\n",
    "%autoreload 2\n",
    "\n",
    "import numpy as np\n",
    "import pandas as pd\n",
    "import matplotlib.pyplot as plt\n",
    "import matplotlib as mpl\n",
    "\n",
    "from simulator import Simulator\n",
    "from observability import SlidingEmpiricalObservabilityMatrix, FisherObservability, ObservabilityMatrixImage\n",
    "from util import colorline"
   ],
   "outputs": [
    {
     "name": "stdout",
     "output_type": "stream",
     "text": [
      "The autoreload extension is already loaded. To reload it, use:\n",
      "  %reload_ext autoreload\n"
     ]
    }
   ],
   "execution_count": 242
  },
  {
   "metadata": {},
   "cell_type": "markdown",
   "source": "# Set up simulator",
   "id": "18a765e87ea755ae"
  },
  {
   "metadata": {
    "ExecuteTime": {
     "end_time": "2024-10-30T07:31:32.556731Z",
     "start_time": "2024-10-30T07:31:32.466857Z"
    }
   },
   "cell_type": "code",
   "source": [
    "# Set time-step\n",
    "dt = 0.01  # [s]"
   ],
   "id": "578c953bfd6535e6",
   "outputs": [],
   "execution_count": 243
  },
  {
   "metadata": {
    "ExecuteTime": {
     "end_time": "2024-10-30T07:31:32.649896Z",
     "start_time": "2024-10-30T07:31:32.558741Z"
    }
   },
   "cell_type": "code",
   "source": [
    "# Define dynamics function\n",
    "state_names = ['g', 'd']\n",
    "input_names = ['u']\n",
    "def f(X, U, t):\n",
    "    # States\n",
    "    g, d = X\n",
    "    \n",
    "    # Inputs\n",
    "    u = U[0]\n",
    "    \n",
    "    # Dynamics\n",
    "    g_dot = u\n",
    "    d_dot = 0*u\n",
    "    \n",
    "    # Package and return xdot\n",
    "    x_dot = [g_dot, d_dot]\n",
    "    \n",
    "    return x_dot"
   ],
   "id": "4cc057ac5699d5e8",
   "outputs": [],
   "execution_count": 244
  },
  {
   "metadata": {
    "ExecuteTime": {
     "end_time": "2024-10-30T07:31:32.726012Z",
     "start_time": "2024-10-30T07:31:32.650721Z"
    }
   },
   "cell_type": "code",
   "source": [
    "# Define measurement function\n",
    "measurement_names = ['r']\n",
    "def h(X, U, t):\n",
    "    # States\n",
    "    g, d = X\n",
    "    \n",
    "    # Inputs\n",
    "    u = U\n",
    "    \n",
    "    # Measurements\n",
    "    Y = [g/d]\n",
    "    \n",
    "    # Return measurement\n",
    "    return Y\n"
   ],
   "id": "b5ee0885b9cb8f0e",
   "outputs": [],
   "execution_count": 245
  },
  {
   "metadata": {
    "ExecuteTime": {
     "end_time": "2024-10-30T07:31:32.805101Z",
     "start_time": "2024-10-30T07:31:32.729011Z"
    }
   },
   "cell_type": "code",
   "source": [
    "# Define initial state and controls (must be same size as X & U)\n",
    "X0 = [2, 3]\n",
    "U0 = [0]"
   ],
   "id": "daf513a91d0a7271",
   "outputs": [],
   "execution_count": 246
  },
  {
   "metadata": {
    "ExecuteTime": {
     "end_time": "2024-10-30T07:31:32.897164Z",
     "start_time": "2024-10-30T07:31:32.806103Z"
    }
   },
   "cell_type": "code",
   "source": [
    "# Create simulator object\n",
    "simulator = Simulator(f, h, X0, U0, dt=dt,\n",
    "                      state_names=state_names, measurement_names=measurement_names, input_names=input_names)"
   ],
   "id": "3406963697a24ff",
   "outputs": [],
   "execution_count": 247
  },
  {
   "metadata": {
    "ExecuteTime": {
     "end_time": "2024-10-30T07:31:32.989044Z",
     "start_time": "2024-10-30T07:31:32.898157Z"
    }
   },
   "cell_type": "code",
   "source": [
    "# Set the initial state\n",
    "x0 = simulator.x0.copy()\n",
    "x0['g'] = 2.0\n",
    "x0['d'] = 3.0\n",
    "x0"
   ],
   "id": "889dd403d7b5708f",
   "outputs": [
    {
     "data": {
      "text/plain": [
       "{'g': 2.0, 'd': 3.0}"
      ]
     },
     "execution_count": 248,
     "metadata": {},
     "output_type": "execute_result"
    }
   ],
   "execution_count": 248
  },
  {
   "metadata": {
    "ExecuteTime": {
     "end_time": "2024-10-30T07:31:33.067639Z",
     "start_time": "2024-10-30T07:31:32.990909Z"
    }
   },
   "cell_type": "code",
   "source": [
    "# Set the inputs\n",
    "tsim1 = np.arange(0, 3, step=dt)\n",
    "tsim2 = np.arange(3, 6, step=dt)\n",
    "tsim3 = np.arange(6, 9, step=dt)\n",
    "tsim = np.hstack((tsim1, tsim2, tsim3))\n",
    "\n",
    "u1 = np.sin(3*tsim1)\n",
    "u2 = 1e-5*np.sin(3*tsim2)\n",
    "u3 = np.sin(3*tsim3)\n",
    "u_total = np.hstack((u1, u2, u3))\n",
    "\n",
    "u = simulator.u.copy()\n",
    "u['u']= u_total\n",
    "# u"
   ],
   "id": "b65c1d358905e9c",
   "outputs": [],
   "execution_count": 249
  },
  {
   "metadata": {
    "ExecuteTime": {
     "end_time": "2024-10-30T07:31:33.597939Z",
     "start_time": "2024-10-30T07:31:33.069188Z"
    }
   },
   "cell_type": "code",
   "source": [
    "# Run simulator with set initial state & inputs\n",
    "y_sim = simulator.simulate(x0=x0, u=u)"
   ],
   "id": "f9a45ccea43c5538",
   "outputs": [],
   "execution_count": 250
  },
  {
   "metadata": {
    "ExecuteTime": {
     "end_time": "2024-10-30T07:31:33.659647Z",
     "start_time": "2024-10-30T07:31:33.599710Z"
    }
   },
   "cell_type": "code",
   "source": [
    "# Save simulation data\n",
    "x_sim = simulator.x.copy()\n",
    "u_sim = simulator.u.copy()\n",
    "t_sim = simulator.time.copy()\n",
    "# sim_data = pd.DataFrame(simulator.sim_data)"
   ],
   "id": "bc1831697a59cd78",
   "outputs": [],
   "execution_count": 251
  },
  {
   "metadata": {
    "ExecuteTime": {
     "end_time": "2024-10-30T07:31:33.831905Z",
     "start_time": "2024-10-30T07:31:33.661182Z"
    }
   },
   "cell_type": "code",
   "source": [
    "plt.plot(x_sim['g'])\n",
    "plt.plot(u_sim['u'])"
   ],
   "id": "4d7a06e0bb818740",
   "outputs": [
    {
     "data": {
      "text/plain": [
       "[<matplotlib.lines.Line2D at 0x15c44d41610>]"
      ]
     },
     "execution_count": 252,
     "metadata": {},
     "output_type": "execute_result"
    },
    {
     "data": {
      "text/plain": [
       "<Figure size 640x480 with 1 Axes>"
      ],
      "image/png": "[encoded data removed]"
     },
     "metadata": {},
     "output_type": "display_data"
    }
   ],
   "execution_count": 252
  },
  {
   "metadata": {},
   "cell_type": "markdown",
   "source": "# Observability",
   "id": "3dd7f79fede786c"
  },
  {
   "metadata": {
    "ExecuteTime": {
     "end_time": "2024-10-30T07:31:41.920657Z",
     "start_time": "2024-10-30T07:31:33.833918Z"
    }
   },
   "cell_type": "code",
   "source": [
    "# Construct observability matrix in sliding windows\n",
    "w = 6  # window size\n",
    "SEOM = SlidingEmpiricalObservabilityMatrix(simulator, t_sim, x_sim, u_sim, w=w, eps=1e-4, parallel=False)"
   ],
   "id": "fb010be8f889afca",
   "outputs": [],
   "execution_count": 253
  },
  {
   "metadata": {
    "ExecuteTime": {
     "end_time": "2024-10-30T07:31:41.968063Z",
     "start_time": "2024-10-30T07:31:41.921658Z"
    }
   },
   "cell_type": "code",
   "source": [
    "n_window = len(SEOM.O_df_sliding)\n",
    "print(n_window, 'windows')"
   ],
   "id": "92f4736332db11f3",
   "outputs": [
    {
     "name": "stdout",
     "output_type": "stream",
     "text": [
      "895 windows\n"
     ]
    }
   ],
   "execution_count": 254
  },
  {
   "metadata": {
    "ExecuteTime": {
     "end_time": "2024-10-30T07:31:42.092229Z",
     "start_time": "2024-10-30T07:31:41.969817Z"
    }
   },
   "cell_type": "code",
   "source": [
    "# Visualize observability matrix\n",
    "OI = ObservabilityMatrixImage(SEOM.O_df_sliding[0], vmax_percentile=100, vmin_ratio=1.0, cmap='bwr')\n",
    "OI.plot()"
   ],
   "id": "48aa1827b111f8d5",
   "outputs": [
    {
     "data": {
      "text/plain": [
       "<Figure size 90x270 with 2 Axes>"
      ],
      "image/png": "[encoded data removed]"
     },
     "metadata": {},
     "output_type": "display_data"
    }
   ],
   "execution_count": 255
  },
  {
   "metadata": {},
   "cell_type": "markdown",
   "source": "# Compute Fisher information matrix & inverse for each sliding window",
   "id": "878c592e7e1fea34"
  },
  {
   "metadata": {
    "ExecuteTime": {
     "end_time": "2024-10-30T07:31:42.140095Z",
     "start_time": "2024-10-30T07:31:42.093221Z"
    }
   },
   "cell_type": "code",
   "source": [
    "# Choose sensors to use from O\n",
    "o_sensors = ['r']\n",
    "\n",
    "# Chose states to use from O\n",
    "o_states = ['g', 'd']\n",
    "\n",
    "# Choose time-steps to use from O\n",
    "window_size = 6\n",
    "o_time_steps = np.arange(0, window_size, step=1)"
   ],
   "id": "e39f97eb4e846461",
   "outputs": [],
   "execution_count": 256
  },
  {
   "metadata": {
    "ExecuteTime": {
     "end_time": "2024-10-30T07:31:42.187385Z",
     "start_time": "2024-10-30T07:31:42.140598Z"
    }
   },
   "cell_type": "code",
   "source": [
    "# Set each sensor noise level separately\n",
    "sensor_noise = {'x': 0.1, 'v': 0.1, 'm': 0.1, 'k': 0.1, 'b': 0.1, 'r':0.1}"
   ],
   "id": "27d52b8e17875b9",
   "outputs": [],
   "execution_count": 257
  },
  {
   "metadata": {
    "jupyter": {
     "is_executing": true
    },
    "ExecuteTime": {
     "start_time": "2024-10-30T07:31:42.187385Z"
    }
   },
   "cell_type": "code",
   "source": [
    "# Compute Fisher information matrix & inverse for each sliding window\n",
    "EV = []  # collect error variance data for each state over time\n",
    "shift_index = int(np.round((1/2) * window_size))\n",
    "shift_time = shift_index * dt  # shift the time forward by half the window size\n",
    "for k in range(n_window):  # each window\n",
    "    # Get full O\n",
    "    O = SEOM.O_df_sliding[k]\n",
    "    \n",
    "    # Get subset of O\n",
    "    O_subset = O.loc[(o_sensors, o_time_steps), o_states].sort_values(['time_step', 'sensor'])\n",
    "    \n",
    "    # Compute Fisher information & inverse\n",
    "    FO = FisherObservability(O_subset, sensor_noise_dict=sensor_noise, sigma=1e-6)\n",
    "    \n",
    "    # Collect error variance data\n",
    "    ev = FO.error_variance.copy()\n",
    "    ev.insert(0, 'time_initial', SEOM.t_sim[k] + 0.0*shift_time)\n",
    "    EV.append(ev)\n",
    "\n",
    "# Concatenate error variance & make same size as simulation data\n",
    "EV = pd.concat(EV, axis=0, ignore_index=True)\n",
    "EV.index = np.arange(shift_index, EV.shape[0] + shift_index, step=1, dtype=int)\n",
    "time_df = pd.DataFrame(np.atleast_2d(tsim).T, columns=['time'])\n",
    "EV_aligned = pd.concat((time_df, EV), axis=1)"
   ],
   "id": "7c4b86147f6be5fa",
   "outputs": [],
   "execution_count": null
  },
  {
   "metadata": {
    "jupyter": {
     "is_executing": true
    }
   },
   "cell_type": "code",
   "source": "EV_aligned",
   "id": "55bc51b6e33c198a",
   "outputs": [],
   "execution_count": null
  },
  {
   "metadata": {
    "jupyter": {
     "is_executing": true
    }
   },
   "cell_type": "code",
   "source": [
    "# Visualize observability matrix subset\n",
    "OI = ObservabilityMatrixImage(O_subset, vmax_percentile=100, vmin_ratio=1.0, cmap='bwr')\n",
    "OI.plot()"
   ],
   "id": "c81745a8f766881a",
   "outputs": [],
   "execution_count": null
  },
  {
   "metadata": {},
   "cell_type": "markdown",
   "source": "# Plot states & error variance",
   "id": "fc989df867165630"
  },
  {
   "metadata": {
    "jupyter": {
     "is_executing": true
    }
   },
   "cell_type": "code",
   "source": [
    "fig, ax = plt.subplots(2, 1, figsize=(4, 3), dpi=200, sharex=True)\n",
    "\n",
    "ax[0].plot(t_sim, x_sim['g'], label='g')\n",
    "ax[0].plot(t_sim, x_sim['d'], label='d')\n",
    "ax[0].set_ylabel('states', fontsize=7)\n",
    "ax[0].legend(fontsize=6)\n",
    "\n",
    "ax[1].plot(EV_aligned['time'], EV_aligned['g'])\n",
    "ax[1].plot(EV_aligned['time'], EV_aligned['d'])\n",
    "# ax[1].set_ylim(-1e5, 1e6)\n",
    "ax[1].set_ylabel('error variance', fontsize=7)\n",
    "ax[1].set_xlabel('time (s)', fontsize=7)\n",
    "# ax[1].set_yscale('log')\n",
    "\n",
    "for a in ax.flat:\n",
    "    a.tick_params(axis='both', labelsize=6)\n",
    "    "
   ],
   "id": "f6b70870393317d8",
   "outputs": [],
   "execution_count": null
  },
  {
   "metadata": {},
   "cell_type": "markdown",
   "source": "# Plot error variance as color on state time-series",
   "id": "41dd1d936c5c7d34"
  },
  {
   "metadata": {
    "jupyter": {
     "is_executing": true
    }
   },
   "cell_type": "code",
   "source": "EV_no_nan = EV_aligned.fillna(method='bfill').fillna(method='ffill')",
   "id": "6e348fd2e8daabd",
   "outputs": [],
   "execution_count": null
  },
  {
   "metadata": {
    "jupyter": {
     "is_executing": true
    }
   },
   "cell_type": "code",
   "source": [
    "n_state = len(o_states)\n",
    "\n",
    "fig, ax = plt.subplots(n_state, 2, figsize=(6, n_state*2), dpi=150, sharex=True)\n",
    "ax = np.atleast_2d(ax)\n",
    "\n",
    "cmap = 'inferno'\n",
    "\n",
    "log_tick_low = 3\n",
    "log_tick_high = 6\n",
    "cnorm = mpl.colors.LogNorm(10**log_tick_low, 10**log_tick_high)\n",
    "\n",
    "for n, state_name in enumerate(o_states):\n",
    "    colorline(t_sim, x_sim[state_name], EV_no_nan[state_name].values, ax=ax[n, 0], cmap=cmap, norm=cnorm)\n",
    "    colorline(t_sim, EV_no_nan[state_name].values, EV_no_nan[state_name].values, ax=ax[n, 1], cmap=cmap, norm=cnorm)\n",
    "\n",
    "    # Colorbar\n",
    "    cax = ax[n, -1].inset_axes([1.03, 0.0, 0.04, 1.0])\n",
    "    cbar = fig.colorbar(mpl.cm.ScalarMappable(norm=cnorm, cmap=cmap), cax=cax,\n",
    "                        ticks=np.logspace(log_tick_low, log_tick_high, log_tick_high-log_tick_low + 1))\n",
    "    cbar.set_label('error variance', rotation=270, fontsize=7, labelpad=8)\n",
    "    cbar.ax.tick_params(labelsize=6)\n",
    "\n",
    "    ax[n, 0].set_ylim(1, 4)\n",
    "    ax[n, 0].set_ylabel('state ' + state_name, fontsize=7)\n",
    "\n",
    "    ax[n, 1].set_ylim(10**log_tick_low, 10**log_tick_high)\n",
    "    ax[n, 1].set_yscale('log')\n",
    "    ax[n, 1].set_ylabel('error variance', fontsize=7)\n",
    "\n",
    "\n",
    "for a in ax.flat:\n",
    "    a.tick_params(axis='both', labelsize=6)\n",
    "    a.set_xlabel('time (s)', fontsize=7)\n",
    "    a.set_xlim(-1, 10)\n",
    "    \n",
    "fig.subplots_adjust(left=None, bottom=None, right=None, top=None, wspace=0.3, hspace=0.4)"
   ],
   "id": "7da9756d54ff850c",
   "outputs": [],
   "execution_count": null
  },
  {
   "metadata": {
    "jupyter": {
     "is_executing": true
    }
   },
   "cell_type": "code",
   "source": "",
   "id": "61a341f54bf21469",
   "outputs": [],
   "execution_count": null
  }
 ],
 "metadata": {
  "kernelspec": {
   "display_name": "Python 3",
   "language": "python",
   "name": "python3"
  },
  "language_info": {
   "codemirror_mode": {
    "name": "ipython",
    "version": 2
   },
   "file_extension": ".py",
   "mimetype": "text/x-python",
   "name": "python",
   "nbconvert_exporter": "python",
   "pygments_lexer": "ipython2",
   "version": "2.7.6"
  }
 },
 "nbformat": 4,
 "nbformat_minor": 5
}
