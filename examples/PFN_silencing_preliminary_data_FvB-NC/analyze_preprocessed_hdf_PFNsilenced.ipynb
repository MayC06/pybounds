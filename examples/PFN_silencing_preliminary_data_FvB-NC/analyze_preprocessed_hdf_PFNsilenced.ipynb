{
 "cells": [
  {
   "cell_type": "code",
   "execution_count": 1,
   "id": "602e3cbd",
   "metadata": {},
   "outputs": [
    {
     "name": "stderr",
     "output_type": "stream",
     "text": [
      "DEPRECATION: Loading egg at c:\\users\\mayc06\\appdata\\local\\anaconda3\\envs\\celliniwindsim\\lib\\site-packages\\flyplotlib-0.0.1-py3.11.egg is deprecated. pip 24.3 will enforce this behaviour change. A possible replacement is to use pip for package installation.. Discussion can be found at https://github.com/pypa/pip/issues/12330\n",
      "DEPRECATION: Loading egg at c:\\users\\mayc06\\appdata\\local\\anaconda3\\envs\\celliniwindsim\\lib\\site-packages\\pychebfun-0.3-py3.11.egg is deprecated. pip 24.3 will enforce this behaviour change. A possible replacement is to use pip for package installation.. Discussion can be found at https://github.com/pypa/pip/issues/12330\n",
      "ERROR: Could not find a version that satisfies the requirement braid_tools (from versions: none)\n",
      "ERROR: No matching distribution found for braid_tools\n"
     ]
    }
   ],
   "source": [
    "#!pip install braid_tools\n"
   ]
  },
  {
   "cell_type": "code",
   "execution_count": 2,
   "id": "c8e4e53b-ac6c-4e42-b5f8-bedb527c8b80",
   "metadata": {},
   "outputs": [
    {
     "name": "stderr",
     "output_type": "stream",
     "text": [
      "C:\\Users\\mayc06\\AppData\\Local\\anaconda3\\envs\\CelliniWindSim\\Lib\\site-packages\\h5py\\__init__.py:36: UserWarning: h5py is running against HDF5 1.14.6 when it was built against 1.14.5, this may cause problems\n",
      "  _warn((\"h5py is running against HDF5 {0} when it was built against {1}, \"\n"
     ]
    }
   ],
   "source": [
    "import os\n",
    "import matplotlib.pyplot as plt\n",
    "import numpy as np\n",
    "import pandas as pd\n",
    "\n",
    "from braid_analysis import braid_filemanager\n",
    "from braid_analysis import braid_slicing\n",
    "from braid_analysis import braid_analysis_plots\n",
    "from braid_analysis import flymath\n",
    "\n",
    "import pandas"
   ]
  },
  {
   "cell_type": "markdown",
   "id": "9b4bd5ce-dd46-4bfe-8855-cace600a183c",
   "metadata": {},
   "source": [
    "# Load preprocessed hdf"
   ]
  },
  {
   "cell_type": "code",
   "execution_count": 3,
   "id": "1c758772-fb1e-4f9b-84c4-16baaf69addc",
   "metadata": {},
   "outputs": [],
   "source": [
    "hdf_filename =  'WT_20250626_170346_preprocessed_realodor.hdf'\n",
    "# WT_20250626_170346_preprocessed_realodor.hdf\n",
    "# PFNsilenced_20250627_182706_preprocessed_realodor.hdf\n",
    "braid_df = pandas.read_hdf(hdf_filename)"
   ]
  },
  {
   "cell_type": "markdown",
   "id": "ba4ccd8c-6e76-43e8-9316-44802dbc43ee",
   "metadata": {},
   "source": [
    "# Investigate keys"
   ]
  },
  {
   "cell_type": "code",
   "execution_count": 25,
   "id": "6aa2f17a-b5dc-4e88-bc62-72ecf12600c0",
   "metadata": {},
   "outputs": [
    {
     "name": "stdout",
     "output_type": "stream",
     "text": [
      "obj_id\n",
      "frame\n",
      "timestamp\n",
      "x\n",
      "y\n",
      "z\n",
      "xvel\n",
      "yvel\n",
      "zvel\n",
      "P00\n",
      "P01\n",
      "P02\n",
      "P11\n",
      "P12\n",
      "P22\n",
      "P33\n",
      "P44\n",
      "P55\n",
      "obj_id_unique\n",
      "speed_xy\n",
      "course\n",
      "course_smoothish\n",
      "ang_vel_smoothish\n",
      "alicat_flow_rate\n",
      "braid_flow_controls\n",
      "binary_odor_value_for_cylindrical_plume\n"
     ]
    }
   ],
   "source": [
    "_ = [print(k) for k in braid_df.keys()]"
   ]
  },
  {
   "cell_type": "code",
   "execution_count": 4,
   "id": "b57c9f99",
   "metadata": {},
   "outputs": [
    {
     "data": {
      "text/html": [
       "<div>\n",
       "<style scoped>\n",
       "    .dataframe tbody tr th:only-of-type {\n",
       "        vertical-align: middle;\n",
       "    }\n",
       "\n",
       "    .dataframe tbody tr th {\n",
       "        vertical-align: top;\n",
       "    }\n",
       "\n",
       "    .dataframe thead th {\n",
       "        text-align: right;\n",
       "    }\n",
       "</style>\n",
       "<table border=\"1\" class=\"dataframe\">\n",
       "  <thead>\n",
       "    <tr style=\"text-align: right;\">\n",
       "      <th></th>\n",
       "      <th>obj_id</th>\n",
       "      <th>frame</th>\n",
       "      <th>timestamp</th>\n",
       "      <th>x</th>\n",
       "      <th>y</th>\n",
       "      <th>z</th>\n",
       "      <th>xvel</th>\n",
       "      <th>yvel</th>\n",
       "      <th>zvel</th>\n",
       "      <th>P00</th>\n",
       "      <th>...</th>\n",
       "      <th>P44</th>\n",
       "      <th>P55</th>\n",
       "      <th>obj_id_unique</th>\n",
       "      <th>speed_xy</th>\n",
       "      <th>course</th>\n",
       "      <th>course_smoothish</th>\n",
       "      <th>ang_vel_smoothish</th>\n",
       "      <th>alicat_flow_rate</th>\n",
       "      <th>braid_flow_controls</th>\n",
       "      <th>binary_odor_value_for_cylindrical_plume</th>\n",
       "    </tr>\n",
       "  </thead>\n",
       "  <tbody>\n",
       "    <tr>\n",
       "      <th>13288</th>\n",
       "      <td>911</td>\n",
       "      <td>547190</td>\n",
       "      <td>1.750988e+09</td>\n",
       "      <td>-0.508940</td>\n",
       "      <td>-0.092787</td>\n",
       "      <td>0.601269</td>\n",
       "      <td>-0.313339</td>\n",
       "      <td>0.294105</td>\n",
       "      <td>0.161826</td>\n",
       "      <td>7.534679e-07</td>\n",
       "      <td>...</td>\n",
       "      <td>0.022498</td>\n",
       "      <td>0.242128</td>\n",
       "      <td>20250626_170346_911</td>\n",
       "      <td>0.429744</td>\n",
       "      <td>2.387848</td>\n",
       "      <td>2.387962</td>\n",
       "      <td>2.208639</td>\n",
       "      <td>126.871860</td>\n",
       "      <td>150.0</td>\n",
       "      <td>0</td>\n",
       "    </tr>\n",
       "    <tr>\n",
       "      <th>13289</th>\n",
       "      <td>911</td>\n",
       "      <td>547191</td>\n",
       "      <td>1.750988e+09</td>\n",
       "      <td>-0.512110</td>\n",
       "      <td>-0.090019</td>\n",
       "      <td>0.603649</td>\n",
       "      <td>-0.315663</td>\n",
       "      <td>0.281363</td>\n",
       "      <td>0.207244</td>\n",
       "      <td>6.489914e-07</td>\n",
       "      <td>...</td>\n",
       "      <td>0.015698</td>\n",
       "      <td>0.084157</td>\n",
       "      <td>20250626_170346_911</td>\n",
       "      <td>0.422857</td>\n",
       "      <td>2.413582</td>\n",
       "      <td>2.410048</td>\n",
       "      <td>1.790788</td>\n",
       "      <td>126.872660</td>\n",
       "      <td>150.0</td>\n",
       "      <td>0</td>\n",
       "    </tr>\n",
       "    <tr>\n",
       "      <th>13290</th>\n",
       "      <td>911</td>\n",
       "      <td>547192</td>\n",
       "      <td>1.750988e+09</td>\n",
       "      <td>-0.515070</td>\n",
       "      <td>-0.087472</td>\n",
       "      <td>0.606155</td>\n",
       "      <td>-0.299772</td>\n",
       "      <td>0.261090</td>\n",
       "      <td>0.227090</td>\n",
       "      <td>6.161920e-07</td>\n",
       "      <td>...</td>\n",
       "      <td>0.015572</td>\n",
       "      <td>0.049142</td>\n",
       "      <td>20250626_170346_911</td>\n",
       "      <td>0.397532</td>\n",
       "      <td>2.425054</td>\n",
       "      <td>2.423777</td>\n",
       "      <td>1.459278</td>\n",
       "      <td>126.873460</td>\n",
       "      <td>150.0</td>\n",
       "      <td>0</td>\n",
       "    </tr>\n",
       "    <tr>\n",
       "      <th>13291</th>\n",
       "      <td>911</td>\n",
       "      <td>547193</td>\n",
       "      <td>1.750988e+09</td>\n",
       "      <td>-0.517440</td>\n",
       "      <td>-0.085428</td>\n",
       "      <td>0.607274</td>\n",
       "      <td>-0.250405</td>\n",
       "      <td>0.214309</td>\n",
       "      <td>0.177631</td>\n",
       "      <td>6.082230e-07</td>\n",
       "      <td>...</td>\n",
       "      <td>0.015461</td>\n",
       "      <td>0.040152</td>\n",
       "      <td>20250626_170346_911</td>\n",
       "      <td>0.329592</td>\n",
       "      <td>2.433714</td>\n",
       "      <td>2.439234</td>\n",
       "      <td>2.408409</td>\n",
       "      <td>126.874260</td>\n",
       "      <td>150.0</td>\n",
       "      <td>0</td>\n",
       "    </tr>\n",
       "    <tr>\n",
       "      <th>13292</th>\n",
       "      <td>911</td>\n",
       "      <td>547194</td>\n",
       "      <td>1.750988e+09</td>\n",
       "      <td>-0.519858</td>\n",
       "      <td>-0.083519</td>\n",
       "      <td>0.607124</td>\n",
       "      <td>-0.244530</td>\n",
       "      <td>0.192029</td>\n",
       "      <td>0.097738</td>\n",
       "      <td>6.060109e-07</td>\n",
       "      <td>...</td>\n",
       "      <td>0.015419</td>\n",
       "      <td>0.038165</td>\n",
       "      <td>20250626_170346_911</td>\n",
       "      <td>0.310918</td>\n",
       "      <td>2.475881</td>\n",
       "      <td>2.471946</td>\n",
       "      <td>4.322529</td>\n",
       "      <td>126.875060</td>\n",
       "      <td>150.0</td>\n",
       "      <td>0</td>\n",
       "    </tr>\n",
       "    <tr>\n",
       "      <th>13293</th>\n",
       "      <td>911</td>\n",
       "      <td>547195</td>\n",
       "      <td>1.750988e+09</td>\n",
       "      <td>-0.522652</td>\n",
       "      <td>-0.081502</td>\n",
       "      <td>0.606025</td>\n",
       "      <td>-0.273177</td>\n",
       "      <td>0.195370</td>\n",
       "      <td>0.011626</td>\n",
       "      <td>6.070602e-07</td>\n",
       "      <td>...</td>\n",
       "      <td>0.015431</td>\n",
       "      <td>0.037944</td>\n",
       "      <td>20250626_170346_911</td>\n",
       "      <td>0.335850</td>\n",
       "      <td>2.520754</td>\n",
       "      <td>2.525684</td>\n",
       "      <td>5.908343</td>\n",
       "      <td>126.875860</td>\n",
       "      <td>150.0</td>\n",
       "      <td>0</td>\n",
       "    </tr>\n",
       "    <tr>\n",
       "      <th>13294</th>\n",
       "      <td>911</td>\n",
       "      <td>547196</td>\n",
       "      <td>1.750988e+09</td>\n",
       "      <td>-0.525862</td>\n",
       "      <td>-0.079552</td>\n",
       "      <td>0.604388</td>\n",
       "      <td>-0.311735</td>\n",
       "      <td>0.191378</td>\n",
       "      <td>-0.061851</td>\n",
       "      <td>6.104347e-07</td>\n",
       "      <td>...</td>\n",
       "      <td>0.015466</td>\n",
       "      <td>0.038014</td>\n",
       "      <td>20250626_170346_911</td>\n",
       "      <td>0.365793</td>\n",
       "      <td>2.591007</td>\n",
       "      <td>2.590113</td>\n",
       "      <td>6.019593</td>\n",
       "      <td>126.876660</td>\n",
       "      <td>150.0</td>\n",
       "      <td>0</td>\n",
       "    </tr>\n",
       "    <tr>\n",
       "      <th>13295</th>\n",
       "      <td>911</td>\n",
       "      <td>547197</td>\n",
       "      <td>1.750988e+09</td>\n",
       "      <td>-0.529125</td>\n",
       "      <td>-0.077845</td>\n",
       "      <td>0.602670</td>\n",
       "      <td>-0.323343</td>\n",
       "      <td>0.172658</td>\n",
       "      <td>-0.108390</td>\n",
       "      <td>6.151299e-07</td>\n",
       "      <td>...</td>\n",
       "      <td>0.015511</td>\n",
       "      <td>0.038086</td>\n",
       "      <td>20250626_170346_911</td>\n",
       "      <td>0.366553</td>\n",
       "      <td>2.651134</td>\n",
       "      <td>2.646076</td>\n",
       "      <td>4.830751</td>\n",
       "      <td>126.877459</td>\n",
       "      <td>150.0</td>\n",
       "      <td>0</td>\n",
       "    </tr>\n",
       "    <tr>\n",
       "      <th>13296</th>\n",
       "      <td>911</td>\n",
       "      <td>547198</td>\n",
       "      <td>1.750988e+09</td>\n",
       "      <td>-0.532122</td>\n",
       "      <td>-0.076413</td>\n",
       "      <td>0.601205</td>\n",
       "      <td>-0.304356</td>\n",
       "      <td>0.148629</td>\n",
       "      <td>-0.125190</td>\n",
       "      <td>6.200828e-07</td>\n",
       "      <td>...</td>\n",
       "      <td>0.015555</td>\n",
       "      <td>0.038153</td>\n",
       "      <td>20250626_170346_911</td>\n",
       "      <td>0.338708</td>\n",
       "      <td>2.687318</td>\n",
       "      <td>2.686728</td>\n",
       "      <td>4.313836</td>\n",
       "      <td>126.878259</td>\n",
       "      <td>150.0</td>\n",
       "      <td>0</td>\n",
       "    </tr>\n",
       "    <tr>\n",
       "      <th>13297</th>\n",
       "      <td>911</td>\n",
       "      <td>547199</td>\n",
       "      <td>1.750988e+09</td>\n",
       "      <td>-0.535132</td>\n",
       "      <td>-0.075130</td>\n",
       "      <td>0.600109</td>\n",
       "      <td>-0.301761</td>\n",
       "      <td>0.133084</td>\n",
       "      <td>-0.119235</td>\n",
       "      <td>6.243781e-07</td>\n",
       "      <td>...</td>\n",
       "      <td>0.015592</td>\n",
       "      <td>0.038225</td>\n",
       "      <td>20250626_170346_911</td>\n",
       "      <td>0.329804</td>\n",
       "      <td>2.726227</td>\n",
       "      <td>2.732353</td>\n",
       "      <td>5.952669</td>\n",
       "      <td>126.879059</td>\n",
       "      <td>150.0</td>\n",
       "      <td>0</td>\n",
       "    </tr>\n",
       "  </tbody>\n",
       "</table>\n",
       "<p>10 rows × 26 columns</p>\n",
       "</div>"
      ],
      "text/plain": [
       "       obj_id   frame     timestamp         x         y         z      xvel  \\\n",
       "13288     911  547190  1.750988e+09 -0.508940 -0.092787  0.601269 -0.313339   \n",
       "13289     911  547191  1.750988e+09 -0.512110 -0.090019  0.603649 -0.315663   \n",
       "13290     911  547192  1.750988e+09 -0.515070 -0.087472  0.606155 -0.299772   \n",
       "13291     911  547193  1.750988e+09 -0.517440 -0.085428  0.607274 -0.250405   \n",
       "13292     911  547194  1.750988e+09 -0.519858 -0.083519  0.607124 -0.244530   \n",
       "13293     911  547195  1.750988e+09 -0.522652 -0.081502  0.606025 -0.273177   \n",
       "13294     911  547196  1.750988e+09 -0.525862 -0.079552  0.604388 -0.311735   \n",
       "13295     911  547197  1.750988e+09 -0.529125 -0.077845  0.602670 -0.323343   \n",
       "13296     911  547198  1.750988e+09 -0.532122 -0.076413  0.601205 -0.304356   \n",
       "13297     911  547199  1.750988e+09 -0.535132 -0.075130  0.600109 -0.301761   \n",
       "\n",
       "           yvel      zvel           P00  ...       P44       P55  \\\n",
       "13288  0.294105  0.161826  7.534679e-07  ...  0.022498  0.242128   \n",
       "13289  0.281363  0.207244  6.489914e-07  ...  0.015698  0.084157   \n",
       "13290  0.261090  0.227090  6.161920e-07  ...  0.015572  0.049142   \n",
       "13291  0.214309  0.177631  6.082230e-07  ...  0.015461  0.040152   \n",
       "13292  0.192029  0.097738  6.060109e-07  ...  0.015419  0.038165   \n",
       "13293  0.195370  0.011626  6.070602e-07  ...  0.015431  0.037944   \n",
       "13294  0.191378 -0.061851  6.104347e-07  ...  0.015466  0.038014   \n",
       "13295  0.172658 -0.108390  6.151299e-07  ...  0.015511  0.038086   \n",
       "13296  0.148629 -0.125190  6.200828e-07  ...  0.015555  0.038153   \n",
       "13297  0.133084 -0.119235  6.243781e-07  ...  0.015592  0.038225   \n",
       "\n",
       "             obj_id_unique  speed_xy    course  course_smoothish  \\\n",
       "13288  20250626_170346_911  0.429744  2.387848          2.387962   \n",
       "13289  20250626_170346_911  0.422857  2.413582          2.410048   \n",
       "13290  20250626_170346_911  0.397532  2.425054          2.423777   \n",
       "13291  20250626_170346_911  0.329592  2.433714          2.439234   \n",
       "13292  20250626_170346_911  0.310918  2.475881          2.471946   \n",
       "13293  20250626_170346_911  0.335850  2.520754          2.525684   \n",
       "13294  20250626_170346_911  0.365793  2.591007          2.590113   \n",
       "13295  20250626_170346_911  0.366553  2.651134          2.646076   \n",
       "13296  20250626_170346_911  0.338708  2.687318          2.686728   \n",
       "13297  20250626_170346_911  0.329804  2.726227          2.732353   \n",
       "\n",
       "       ang_vel_smoothish  alicat_flow_rate braid_flow_controls  \\\n",
       "13288           2.208639        126.871860               150.0   \n",
       "13289           1.790788        126.872660               150.0   \n",
       "13290           1.459278        126.873460               150.0   \n",
       "13291           2.408409        126.874260               150.0   \n",
       "13292           4.322529        126.875060               150.0   \n",
       "13293           5.908343        126.875860               150.0   \n",
       "13294           6.019593        126.876660               150.0   \n",
       "13295           4.830751        126.877459               150.0   \n",
       "13296           4.313836        126.878259               150.0   \n",
       "13297           5.952669        126.879059               150.0   \n",
       "\n",
       "       binary_odor_value_for_cylindrical_plume  \n",
       "13288                                        0  \n",
       "13289                                        0  \n",
       "13290                                        0  \n",
       "13291                                        0  \n",
       "13292                                        0  \n",
       "13293                                        0  \n",
       "13294                                        0  \n",
       "13295                                        0  \n",
       "13296                                        0  \n",
       "13297                                        0  \n",
       "\n",
       "[10 rows x 26 columns]"
      ]
     },
     "execution_count": 4,
     "metadata": {},
     "output_type": "execute_result"
    }
   ],
   "source": [
    "braid_df.head(10)"
   ]
  },
  {
   "cell_type": "markdown",
   "id": "f7f6d24f-a92d-44d0-b81c-5a4dcbec31fe",
   "metadata": {},
   "source": [
    "### Explanation of important keys: \n",
    "  * obj_id_unique -- original obj id + date of experiment\n",
    "  * x,y,z -- position\n",
    "  * xvel, yvel, zvel -- velocities\n",
    "  * speed_xy -- ground speed in xy plane\n",
    "  * course_smoothish -- course direction (direction of travel) with some smoothing applied\n",
    "  * ang_vel_smoothish -- angular velocity (derivative of course) with some smoothing applied\n",
    "  * flash_frame -- binary, 1 on the frame that a trigger sequence was started\n",
    "  * trigger_exp -- unique string that corresponds to the type of flash experiment, depends on the preprocessing.yaml file\n",
    "  * frame -- camera frame\n",
    "  * time_relative_to_flash -- time relative to flash event start (if sequence of flashes, it will be relative to the start of the sequence)\n",
    "  * timestamp -- linux time\n",
    "  * alicat_flow_rate -- actual mass flow rate (sccm)\n",
    "  * braid_flow_controls -- commanded mass flow rate (sccm)\n",
    "\n",
    "### Less useful keys:\n",
    "  * obj_id -- DO NOT USE THIS -- original obj id given by braid, not unique\n",
    "  * PXX -- diagonal of the EKF error covariance matrix, generally not super useful except perhaps to identify bad tracking events\n",
    "  * course -- raw course direction (direction of travel)\n",
    "  * binary_odor_value_for_cylindrical_plume -- placeholder for when we eventually have a plume model -- IGNORE for now"
   ]
  },
  {
   "cell_type": "markdown",
   "id": "39044457-1bc6-40f4-82eb-ca30da6b1ba0",
   "metadata": {},
   "source": [
    "# Set obj_id_key\n",
    "  * for trimmed datasets use: obj_id_unique_event\n",
    "  * for raw data use: obj_id_unique"
   ]
  },
  {
   "cell_type": "code",
   "execution_count": 6,
   "id": "583c1977-93ab-4b6f-9c9f-4b9c79e05540",
   "metadata": {},
   "outputs": [],
   "source": [
    "obj_id_key = 'obj_id_unique'"
   ]
  },
  {
   "cell_type": "markdown",
   "id": "421de560-0bf0-445a-b945-75c3b2673b76",
   "metadata": {},
   "source": [
    "# Check number of trajectories"
   ]
  },
  {
   "cell_type": "code",
   "execution_count": 28,
   "id": "3ef5f09a-6a6c-4ce1-b1b1-f9c63ad44c2a",
   "metadata": {},
   "outputs": [
    {
     "name": "stdout",
     "output_type": "stream",
     "text": [
      "Raw number of trajectories: 2840\n"
     ]
    }
   ],
   "source": [
    "# print out number of trajectories\n",
    "num_trajecs = len(braid_df[obj_id_key].unique())\n",
    "print('Raw number of trajectories: ' + str(num_trajecs))"
   ]
  },
  {
   "cell_type": "code",
   "execution_count": 29,
   "id": "3b58b4da",
   "metadata": {},
   "outputs": [],
   "source": [
    "#braid_df.rename(columns={'obj_id_unique':'obj_id'},inplace=True)"
   ]
  },
  {
   "cell_type": "markdown",
   "id": "1740379e-61ef-4820-b79c-2c7c47e0a7cd",
   "metadata": {},
   "source": [
    "# Only keep trajectories > 1 second long"
   ]
  },
  {
   "cell_type": "code",
   "execution_count": 30,
   "id": "edb518ff-6946-4de4-9cf4-6db955352e17",
   "metadata": {},
   "outputs": [],
   "source": [
    "long_obj_ids = braid_slicing.get_long_obj_ids_fast_pandas(braid_df, length=10) # therefore dt = 0.01?"
   ]
  },
  {
   "cell_type": "code",
   "execution_count": 31,
   "id": "c5e91b38",
   "metadata": {},
   "outputs": [
    {
     "data": {
      "text/plain": [
       "2840"
      ]
     },
     "execution_count": 31,
     "metadata": {},
     "output_type": "execute_result"
    }
   ],
   "source": [
    "len(long_obj_ids)"
   ]
  },
  {
   "cell_type": "code",
   "execution_count": 32,
   "id": "7ab4883f",
   "metadata": {},
   "outputs": [],
   "source": [
    "braid_df = braid_slicing.get_data_frame_slice_from_obj_ids(braid_df, long_obj_ids)"
   ]
  },
  {
   "cell_type": "markdown",
   "id": "e3fe02cb-1cf3-4fe4-8fa3-f09b9b11b14f",
   "metadata": {},
   "source": [
    "# Plot histogram of the trajectory lengths"
   ]
  },
  {
   "cell_type": "code",
   "execution_count": 7,
   "id": "33731d60-ba3b-4c0d-a31b-8cb01f4294b0",
   "metadata": {},
   "outputs": [
    {
     "data": {
      "image/png": "[encoded data removed]",
      "text/plain": [
       "<Figure size 640x480 with 1 Axes>"
      ]
     },
     "metadata": {},
     "output_type": "display_data"
    }
   ],
   "source": [
    "braid_analysis_plots.plot_length_of_trajectories_histogram(braid_df, obj_id_key=obj_id_key)"
   ]
  },
  {
   "cell_type": "markdown",
   "id": "c41c4db7-0ee5-4a31-858d-f9db92e0cc97",
   "metadata": {},
   "source": [
    "# Get odor on and odor off dataframes\n",
    "\n",
    "Note: odor off is not a good control currently, there is too much odor leakage."
   ]
  },
  {
   "cell_type": "code",
   "execution_count": 34,
   "id": "f575242b-9204-439d-accb-c2c5b8565e3d",
   "metadata": {},
   "outputs": [],
   "source": [
    "df_odor = braid_df[braid_df.braid_flow_controls>0]\n",
    "df_noodor = braid_df[braid_df.braid_flow_controls==0]"
   ]
  },
  {
   "cell_type": "code",
   "execution_count": 35,
   "id": "8d22243d",
   "metadata": {},
   "outputs": [
    {
     "data": {
      "text/html": [
       "<div>\n",
       "<style scoped>\n",
       "    .dataframe tbody tr th:only-of-type {\n",
       "        vertical-align: middle;\n",
       "    }\n",
       "\n",
       "    .dataframe tbody tr th {\n",
       "        vertical-align: top;\n",
       "    }\n",
       "\n",
       "    .dataframe thead th {\n",
       "        text-align: right;\n",
       "    }\n",
       "</style>\n",
       "<table border=\"1\" class=\"dataframe\">\n",
       "  <thead>\n",
       "    <tr style=\"text-align: right;\">\n",
       "      <th></th>\n",
       "      <th>obj_id</th>\n",
       "      <th>frame</th>\n",
       "      <th>timestamp</th>\n",
       "      <th>x</th>\n",
       "      <th>y</th>\n",
       "      <th>z</th>\n",
       "      <th>xvel</th>\n",
       "      <th>yvel</th>\n",
       "      <th>zvel</th>\n",
       "      <th>P00</th>\n",
       "      <th>...</th>\n",
       "      <th>P44</th>\n",
       "      <th>P55</th>\n",
       "      <th>obj_id_unique</th>\n",
       "      <th>speed_xy</th>\n",
       "      <th>course</th>\n",
       "      <th>course_smoothish</th>\n",
       "      <th>ang_vel_smoothish</th>\n",
       "      <th>alicat_flow_rate</th>\n",
       "      <th>braid_flow_controls</th>\n",
       "      <th>binary_odor_value_for_cylindrical_plume</th>\n",
       "    </tr>\n",
       "  </thead>\n",
       "  <tbody>\n",
       "    <tr>\n",
       "      <th>13288</th>\n",
       "      <td>911</td>\n",
       "      <td>547190</td>\n",
       "      <td>1.750988e+09</td>\n",
       "      <td>-0.508940</td>\n",
       "      <td>-0.092787</td>\n",
       "      <td>0.601269</td>\n",
       "      <td>-0.313339</td>\n",
       "      <td>0.294105</td>\n",
       "      <td>0.161826</td>\n",
       "      <td>7.534679e-07</td>\n",
       "      <td>...</td>\n",
       "      <td>0.022498</td>\n",
       "      <td>0.242128</td>\n",
       "      <td>20250626_170346_911</td>\n",
       "      <td>0.429744</td>\n",
       "      <td>2.387848</td>\n",
       "      <td>2.387962</td>\n",
       "      <td>2.208639</td>\n",
       "      <td>126.871860</td>\n",
       "      <td>150.0</td>\n",
       "      <td>0</td>\n",
       "    </tr>\n",
       "    <tr>\n",
       "      <th>13289</th>\n",
       "      <td>911</td>\n",
       "      <td>547191</td>\n",
       "      <td>1.750988e+09</td>\n",
       "      <td>-0.512110</td>\n",
       "      <td>-0.090019</td>\n",
       "      <td>0.603649</td>\n",
       "      <td>-0.315663</td>\n",
       "      <td>0.281363</td>\n",
       "      <td>0.207244</td>\n",
       "      <td>6.489914e-07</td>\n",
       "      <td>...</td>\n",
       "      <td>0.015698</td>\n",
       "      <td>0.084157</td>\n",
       "      <td>20250626_170346_911</td>\n",
       "      <td>0.422857</td>\n",
       "      <td>2.413582</td>\n",
       "      <td>2.410048</td>\n",
       "      <td>1.790788</td>\n",
       "      <td>126.872660</td>\n",
       "      <td>150.0</td>\n",
       "      <td>0</td>\n",
       "    </tr>\n",
       "    <tr>\n",
       "      <th>13290</th>\n",
       "      <td>911</td>\n",
       "      <td>547192</td>\n",
       "      <td>1.750988e+09</td>\n",
       "      <td>-0.515070</td>\n",
       "      <td>-0.087472</td>\n",
       "      <td>0.606155</td>\n",
       "      <td>-0.299772</td>\n",
       "      <td>0.261090</td>\n",
       "      <td>0.227090</td>\n",
       "      <td>6.161920e-07</td>\n",
       "      <td>...</td>\n",
       "      <td>0.015572</td>\n",
       "      <td>0.049142</td>\n",
       "      <td>20250626_170346_911</td>\n",
       "      <td>0.397532</td>\n",
       "      <td>2.425054</td>\n",
       "      <td>2.423777</td>\n",
       "      <td>1.459278</td>\n",
       "      <td>126.873460</td>\n",
       "      <td>150.0</td>\n",
       "      <td>0</td>\n",
       "    </tr>\n",
       "    <tr>\n",
       "      <th>13291</th>\n",
       "      <td>911</td>\n",
       "      <td>547193</td>\n",
       "      <td>1.750988e+09</td>\n",
       "      <td>-0.517440</td>\n",
       "      <td>-0.085428</td>\n",
       "      <td>0.607274</td>\n",
       "      <td>-0.250405</td>\n",
       "      <td>0.214309</td>\n",
       "      <td>0.177631</td>\n",
       "      <td>6.082230e-07</td>\n",
       "      <td>...</td>\n",
       "      <td>0.015461</td>\n",
       "      <td>0.040152</td>\n",
       "      <td>20250626_170346_911</td>\n",
       "      <td>0.329592</td>\n",
       "      <td>2.433714</td>\n",
       "      <td>2.439234</td>\n",
       "      <td>2.408409</td>\n",
       "      <td>126.874260</td>\n",
       "      <td>150.0</td>\n",
       "      <td>0</td>\n",
       "    </tr>\n",
       "    <tr>\n",
       "      <th>13292</th>\n",
       "      <td>911</td>\n",
       "      <td>547194</td>\n",
       "      <td>1.750988e+09</td>\n",
       "      <td>-0.519858</td>\n",
       "      <td>-0.083519</td>\n",
       "      <td>0.607124</td>\n",
       "      <td>-0.244530</td>\n",
       "      <td>0.192029</td>\n",
       "      <td>0.097738</td>\n",
       "      <td>6.060109e-07</td>\n",
       "      <td>...</td>\n",
       "      <td>0.015419</td>\n",
       "      <td>0.038165</td>\n",
       "      <td>20250626_170346_911</td>\n",
       "      <td>0.310918</td>\n",
       "      <td>2.475881</td>\n",
       "      <td>2.471946</td>\n",
       "      <td>4.322529</td>\n",
       "      <td>126.875060</td>\n",
       "      <td>150.0</td>\n",
       "      <td>0</td>\n",
       "    </tr>\n",
       "    <tr>\n",
       "      <th>...</th>\n",
       "      <td>...</td>\n",
       "      <td>...</td>\n",
       "      <td>...</td>\n",
       "      <td>...</td>\n",
       "      <td>...</td>\n",
       "      <td>...</td>\n",
       "      <td>...</td>\n",
       "      <td>...</td>\n",
       "      <td>...</td>\n",
       "      <td>...</td>\n",
       "      <td>...</td>\n",
       "      <td>...</td>\n",
       "      <td>...</td>\n",
       "      <td>...</td>\n",
       "      <td>...</td>\n",
       "      <td>...</td>\n",
       "      <td>...</td>\n",
       "      <td>...</td>\n",
       "      <td>...</td>\n",
       "      <td>...</td>\n",
       "      <td>...</td>\n",
       "    </tr>\n",
       "    <tr>\n",
       "      <th>3829998</th>\n",
       "      <td>32803</td>\n",
       "      <td>6284452</td>\n",
       "      <td>1.751045e+09</td>\n",
       "      <td>0.107194</td>\n",
       "      <td>-0.069843</td>\n",
       "      <td>0.315482</td>\n",
       "      <td>0.694397</td>\n",
       "      <td>0.219885</td>\n",
       "      <td>-2.683031</td>\n",
       "      <td>2.446824e-04</td>\n",
       "      <td>...</td>\n",
       "      <td>0.140214</td>\n",
       "      <td>0.182348</td>\n",
       "      <td>20250626_170346_32803</td>\n",
       "      <td>0.728380</td>\n",
       "      <td>0.306667</td>\n",
       "      <td>0.305720</td>\n",
       "      <td>0.097841</td>\n",
       "      <td>128.009195</td>\n",
       "      <td>150.0</td>\n",
       "      <td>0</td>\n",
       "    </tr>\n",
       "    <tr>\n",
       "      <th>3829999</th>\n",
       "      <td>32803</td>\n",
       "      <td>6284453</td>\n",
       "      <td>1.751045e+09</td>\n",
       "      <td>0.114138</td>\n",
       "      <td>-0.067645</td>\n",
       "      <td>0.288652</td>\n",
       "      <td>0.694397</td>\n",
       "      <td>0.219885</td>\n",
       "      <td>-2.683031</td>\n",
       "      <td>3.617792e-04</td>\n",
       "      <td>...</td>\n",
       "      <td>0.160214</td>\n",
       "      <td>0.202348</td>\n",
       "      <td>20250626_170346_32803</td>\n",
       "      <td>0.728380</td>\n",
       "      <td>0.306667</td>\n",
       "      <td>0.307807</td>\n",
       "      <td>0.193757</td>\n",
       "      <td>128.010392</td>\n",
       "      <td>150.0</td>\n",
       "      <td>0</td>\n",
       "    </tr>\n",
       "    <tr>\n",
       "      <th>3830000</th>\n",
       "      <td>32803</td>\n",
       "      <td>6284454</td>\n",
       "      <td>1.751045e+09</td>\n",
       "      <td>0.121082</td>\n",
       "      <td>-0.065446</td>\n",
       "      <td>0.261822</td>\n",
       "      <td>0.694397</td>\n",
       "      <td>0.219885</td>\n",
       "      <td>-2.683031</td>\n",
       "      <td>5.114476e-04</td>\n",
       "      <td>...</td>\n",
       "      <td>0.180214</td>\n",
       "      <td>0.222348</td>\n",
       "      <td>20250626_170346_32803</td>\n",
       "      <td>0.728380</td>\n",
       "      <td>0.306667</td>\n",
       "      <td>0.309596</td>\n",
       "      <td>-0.443170</td>\n",
       "      <td>128.011589</td>\n",
       "      <td>150.0</td>\n",
       "      <td>0</td>\n",
       "    </tr>\n",
       "    <tr>\n",
       "      <th>3830001</th>\n",
       "      <td>32803</td>\n",
       "      <td>6284455</td>\n",
       "      <td>1.751045e+09</td>\n",
       "      <td>0.128026</td>\n",
       "      <td>-0.063247</td>\n",
       "      <td>0.234991</td>\n",
       "      <td>0.694397</td>\n",
       "      <td>0.219885</td>\n",
       "      <td>-2.683031</td>\n",
       "      <td>6.976875e-04</td>\n",
       "      <td>...</td>\n",
       "      <td>0.200214</td>\n",
       "      <td>0.242348</td>\n",
       "      <td>20250626_170346_32803</td>\n",
       "      <td>0.728380</td>\n",
       "      <td>0.306667</td>\n",
       "      <td>0.298944</td>\n",
       "      <td>-1.967903</td>\n",
       "      <td>128.012785</td>\n",
       "      <td>150.0</td>\n",
       "      <td>0</td>\n",
       "    </tr>\n",
       "    <tr>\n",
       "      <th>3830002</th>\n",
       "      <td>32803</td>\n",
       "      <td>6284456</td>\n",
       "      <td>1.751045e+09</td>\n",
       "      <td>0.133897</td>\n",
       "      <td>-0.063354</td>\n",
       "      <td>0.207707</td>\n",
       "      <td>0.679786</td>\n",
       "      <td>0.188470</td>\n",
       "      <td>-2.689197</td>\n",
       "      <td>9.331804e-05</td>\n",
       "      <td>...</td>\n",
       "      <td>0.056943</td>\n",
       "      <td>0.251344</td>\n",
       "      <td>20250626_170346_32803</td>\n",
       "      <td>0.705429</td>\n",
       "      <td>0.270455</td>\n",
       "      <td>0.270237</td>\n",
       "      <td>-2.870624</td>\n",
       "      <td>128.013982</td>\n",
       "      <td>150.0</td>\n",
       "      <td>0</td>\n",
       "    </tr>\n",
       "  </tbody>\n",
       "</table>\n",
       "<p>1496634 rows × 26 columns</p>\n",
       "</div>"
      ],
      "text/plain": [
       "         obj_id    frame     timestamp         x         y         z  \\\n",
       "13288       911   547190  1.750988e+09 -0.508940 -0.092787  0.601269   \n",
       "13289       911   547191  1.750988e+09 -0.512110 -0.090019  0.603649   \n",
       "13290       911   547192  1.750988e+09 -0.515070 -0.087472  0.606155   \n",
       "13291       911   547193  1.750988e+09 -0.517440 -0.085428  0.607274   \n",
       "13292       911   547194  1.750988e+09 -0.519858 -0.083519  0.607124   \n",
       "...         ...      ...           ...       ...       ...       ...   \n",
       "3829998   32803  6284452  1.751045e+09  0.107194 -0.069843  0.315482   \n",
       "3829999   32803  6284453  1.751045e+09  0.114138 -0.067645  0.288652   \n",
       "3830000   32803  6284454  1.751045e+09  0.121082 -0.065446  0.261822   \n",
       "3830001   32803  6284455  1.751045e+09  0.128026 -0.063247  0.234991   \n",
       "3830002   32803  6284456  1.751045e+09  0.133897 -0.063354  0.207707   \n",
       "\n",
       "             xvel      yvel      zvel           P00  ...       P44       P55  \\\n",
       "13288   -0.313339  0.294105  0.161826  7.534679e-07  ...  0.022498  0.242128   \n",
       "13289   -0.315663  0.281363  0.207244  6.489914e-07  ...  0.015698  0.084157   \n",
       "13290   -0.299772  0.261090  0.227090  6.161920e-07  ...  0.015572  0.049142   \n",
       "13291   -0.250405  0.214309  0.177631  6.082230e-07  ...  0.015461  0.040152   \n",
       "13292   -0.244530  0.192029  0.097738  6.060109e-07  ...  0.015419  0.038165   \n",
       "...           ...       ...       ...           ...  ...       ...       ...   \n",
       "3829998  0.694397  0.219885 -2.683031  2.446824e-04  ...  0.140214  0.182348   \n",
       "3829999  0.694397  0.219885 -2.683031  3.617792e-04  ...  0.160214  0.202348   \n",
       "3830000  0.694397  0.219885 -2.683031  5.114476e-04  ...  0.180214  0.222348   \n",
       "3830001  0.694397  0.219885 -2.683031  6.976875e-04  ...  0.200214  0.242348   \n",
       "3830002  0.679786  0.188470 -2.689197  9.331804e-05  ...  0.056943  0.251344   \n",
       "\n",
       "                 obj_id_unique  speed_xy    course  course_smoothish  \\\n",
       "13288      20250626_170346_911  0.429744  2.387848          2.387962   \n",
       "13289      20250626_170346_911  0.422857  2.413582          2.410048   \n",
       "13290      20250626_170346_911  0.397532  2.425054          2.423777   \n",
       "13291      20250626_170346_911  0.329592  2.433714          2.439234   \n",
       "13292      20250626_170346_911  0.310918  2.475881          2.471946   \n",
       "...                        ...       ...       ...               ...   \n",
       "3829998  20250626_170346_32803  0.728380  0.306667          0.305720   \n",
       "3829999  20250626_170346_32803  0.728380  0.306667          0.307807   \n",
       "3830000  20250626_170346_32803  0.728380  0.306667          0.309596   \n",
       "3830001  20250626_170346_32803  0.728380  0.306667          0.298944   \n",
       "3830002  20250626_170346_32803  0.705429  0.270455          0.270237   \n",
       "\n",
       "         ang_vel_smoothish  alicat_flow_rate braid_flow_controls  \\\n",
       "13288             2.208639        126.871860               150.0   \n",
       "13289             1.790788        126.872660               150.0   \n",
       "13290             1.459278        126.873460               150.0   \n",
       "13291             2.408409        126.874260               150.0   \n",
       "13292             4.322529        126.875060               150.0   \n",
       "...                    ...               ...                 ...   \n",
       "3829998           0.097841        128.009195               150.0   \n",
       "3829999           0.193757        128.010392               150.0   \n",
       "3830000          -0.443170        128.011589               150.0   \n",
       "3830001          -1.967903        128.012785               150.0   \n",
       "3830002          -2.870624        128.013982               150.0   \n",
       "\n",
       "         binary_odor_value_for_cylindrical_plume  \n",
       "13288                                          0  \n",
       "13289                                          0  \n",
       "13290                                          0  \n",
       "13291                                          0  \n",
       "13292                                          0  \n",
       "...                                          ...  \n",
       "3829998                                        0  \n",
       "3829999                                        0  \n",
       "3830000                                        0  \n",
       "3830001                                        0  \n",
       "3830002                                        0  \n",
       "\n",
       "[1496634 rows x 26 columns]"
      ]
     },
     "execution_count": 35,
     "metadata": {},
     "output_type": "execute_result"
    }
   ],
   "source": [
    "df_odor"
   ]
  },
  {
   "cell_type": "markdown",
   "id": "4e475738-d400-48e2-86da-c291962e7496",
   "metadata": {},
   "source": [
    "# Drop frames that are probably on wind tunnel wall, or beyond\n",
    "\n",
    "Note: this is a hacky approach for making the heatmaps reveal the plume tracking. In some cases these dropped frames will break up trajectories so you would not want to analyze individual trajectory obj ids after this step, unless you take additional filtering steps! "
   ]
  },
  {
   "cell_type": "code",
   "execution_count": 1,
   "id": "70daec14-965e-4b01-979b-a97780457a75",
   "metadata": {},
   "outputs": [
    {
     "ename": "NameError",
     "evalue": "name 'df_odor' is not defined",
     "output_type": "error",
     "traceback": [
      "\u001b[1;31m---------------------------------------------------------------------------\u001b[0m",
      "\u001b[1;31mNameError\u001b[0m                                 Traceback (most recent call last)",
      "Cell \u001b[1;32mIn[1], line 2\u001b[0m\n\u001b[0;32m      1\u001b[0m q \u001b[38;5;241m=\u001b[39m \u001b[38;5;124m'\u001b[39m\u001b[38;5;124my > -0.2 and y < 0.2 and z > 0.1 and z < 0.5\u001b[39m\u001b[38;5;124m'\u001b[39m\n\u001b[1;32m----> 2\u001b[0m df_odor_middle \u001b[38;5;241m=\u001b[39m df_odor\u001b[38;5;241m.\u001b[39mquery(q)\n\u001b[0;32m      3\u001b[0m df_noodor_middle \u001b[38;5;241m=\u001b[39m df_noodor\u001b[38;5;241m.\u001b[39mquery(q)\n",
      "\u001b[1;31mNameError\u001b[0m: name 'df_odor' is not defined"
     ]
    }
   ],
   "source": [
    "q = 'y > -0.2 and y < 0.2 and z > 0.1 and z < 0.5'\n",
    "df_odor_middle = df_odor.query(q)\n",
    "df_noodor_middle = df_noodor.query(q)"
   ]
  },
  {
   "cell_type": "code",
   "execution_count": 20,
   "id": "9bdf878c-fbf8-4ae2-aacf-91742802831b",
   "metadata": {},
   "outputs": [],
   "source": [
    "#q = 'speed_xy > 0.05 and speed_xy < 2'\n",
    "#df_odor_middle = df_odor_middle.query(q)"
   ]
  },
  {
   "cell_type": "markdown",
   "id": "576630fb-f56a-4caa-a2b2-18170bad1ba9",
   "metadata": {},
   "source": [
    "# Plot heatmaps of occupancy"
   ]
  },
  {
   "cell_type": "code",
   "execution_count": 37,
   "id": "2161789e-aa25-4011-afdc-f12bc91faa2b",
   "metadata": {},
   "outputs": [
    {
     "data": {
      "image/png": "[encoded data removed]",
      "text/plain": [
       "<Figure size 1000x500 with 2 Axes>"
      ]
     },
     "metadata": {},
     "output_type": "display_data"
    }
   ],
   "source": [
    "braid_analysis_plots.plot_occupancy_heatmaps(df_odor_middle, -1, 1, -0.3, 0.3, 0.0, 0.6, \n",
    "                                             log=False, vmax=0.0003)"
   ]
  },
  {
   "cell_type": "code",
   "execution_count": null,
   "id": "4ba814f8",
   "metadata": {},
   "outputs": [],
   "source": [
    "braid_analysis_plots.plot_occupancy_heatmaps(df_odor_middle, -1, 1, -0.3, 0.3, 0.0, 0.6, \n",
    "                                             log=False, vmax=0.0003)"
   ]
  },
  {
   "cell_type": "markdown",
   "id": "b007821f-bff2-4152-bbd5-903a1c5bec4c",
   "metadata": {},
   "source": [
    "# Plot an individual trajectory"
   ]
  },
  {
   "cell_type": "code",
   "execution_count": 29,
   "id": "e369fe3c",
   "metadata": {},
   "outputs": [],
   "source": [
    "## Make a list of dataframes of the trajectories\n",
    "braid_list = [braid_df[braid_df.obj_id_unique==i] for i in braid_df.obj_id_unique.unique()]"
   ]
  },
  {
   "cell_type": "code",
   "execution_count": 39,
   "id": "bd16a6a4-5253-4013-9363-c6df2be8307d",
   "metadata": {},
   "outputs": [],
   "source": [
    "# get an object id\n",
    "n = 2 # second object\n",
    "obj_id = braid_df[obj_id_key].unique()[n]\n",
    "\n",
    "# grab slice of the data\n",
    "trajec1 = braid_df[braid_df[obj_id_key]==obj_id]\n",
    "\n",
    "## or simply grab the individual trajectory from the braid_list\n",
    "trajec2 = braid_list[n]"
   ]
  },
  {
   "cell_type": "code",
   "execution_count": 40,
   "id": "4dcac018-d178-44d7-8507-e6d92831e7ad",
   "metadata": {},
   "outputs": [
    {
     "data": {
      "image/png": "[encoded data removed]",
      "text/plain": [
       "<Figure size 640x480 with 1 Axes>"
      ]
     },
     "metadata": {},
     "output_type": "display_data"
    }
   ],
   "source": [
    "braid_analysis_plots.plot_arrowhead_trajectory(trajec1.x.values, trajec1.y.values)"
   ]
  },
  {
   "cell_type": "code",
   "execution_count": 41,
   "id": "5c707d40",
   "metadata": {},
   "outputs": [
    {
     "data": {
      "image/png": "[encoded data removed]",
      "text/plain": [
       "<Figure size 640x480 with 1 Axes>"
      ]
     },
     "metadata": {},
     "output_type": "display_data"
    }
   ],
   "source": [
    "braid_analysis_plots.plot_arrowhead_trajectory(trajec2.x.values, trajec2.y.values)"
   ]
  },
  {
   "cell_type": "code",
   "execution_count": 42,
   "id": "fba4b19f",
   "metadata": {},
   "outputs": [],
   "source": [
    "import seaborn as sns"
   ]
  },
  {
   "cell_type": "code",
   "execution_count": 52,
   "id": "e55a00bd",
   "metadata": {},
   "outputs": [
    {
     "data": {
      "text/plain": [
       "Index(['obj_id', 'frame', 'timestamp', 'x', 'y', 'z', 'xvel', 'yvel', 'zvel',\n",
       "       'P00', 'P01', 'P02', 'P11', 'P12', 'P22', 'P33', 'P44', 'P55',\n",
       "       'obj_id_unique', 'speed_xy', 'course', 'course_smoothish',\n",
       "       'ang_vel_smoothish', 'alicat_flow_rate', 'braid_flow_controls',\n",
       "       'binary_odor_value_for_cylindrical_plume'],\n",
       "      dtype='object')"
      ]
     },
     "execution_count": 52,
     "metadata": {},
     "output_type": "execute_result"
    }
   ],
   "source": [
    "df_odor_middle.columns"
   ]
  },
  {
   "cell_type": "code",
   "execution_count": null,
   "id": "77c6a35d",
   "metadata": {},
   "outputs": [],
   "source": [
    "temp_df = df_odor_middle[['x','y','z']]"
   ]
  },
  {
   "cell_type": "code",
   "execution_count": null,
   "id": "492d5705",
   "metadata": {},
   "outputs": [],
   "source": [
    "sns.histplot(temp_df)"
   ]
  },
  {
   "cell_type": "code",
   "execution_count": 15,
   "id": "1225b03d-db91-4de2-ba88-9a6b292a51b9",
   "metadata": {},
   "outputs": [
    {
     "data": {
      "text/plain": [
       "Text(0, 0.5, 'frames')"
      ]
     },
     "execution_count": 15,
     "metadata": {},
     "output_type": "execute_result"
    },
    {
     "data": {
      "image/png": "[encoded data removed]",
      "text/plain": [
       "<Figure size 640x480 with 1 Axes>"
      ]
     },
     "metadata": {},
     "output_type": "display_data"
    }
   ],
   "source": [
    "plt.hist(df_odor_middle.course_smoothish)\n",
    "plt.xlabel('course direction, rad')\n",
    "plt.ylabel('frames')"
   ]
  },
  {
   "cell_type": "code",
   "execution_count": null,
   "id": "721f5b0d-f935-4463-91d2-d74374a25da0",
   "metadata": {},
   "outputs": [],
   "source": []
  }
 ],
 "metadata": {
  "kernelspec": {
   "display_name": "Python 3 (ipykernel)",
   "language": "python",
   "name": "python3"
  },
  "language_info": {
   "codemirror_mode": {
    "name": "ipython",
    "version": 3
   },
   "file_extension": ".py",
   "mimetype": "text/x-python",
   "name": "python",
   "nbconvert_exporter": "python",
   "pygments_lexer": "ipython3",
   "version": "3.11.4"
  }
 },
 "nbformat": 4,
 "nbformat_minor": 5
}
